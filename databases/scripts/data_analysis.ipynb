{
 "cells": [
  {
   "cell_type": "markdown",
   "metadata": {},
   "source": [
    "# ==============================================================\n",
    "# DATA ANALYSIS\n",
    "\n",
    "### This is a user-interactive notebook dedicated to the visual analysis of the data and the extraction of necessary information for data preprocessing.\n",
    "**OUTPUT:** \"{db_name}_prep.json\" file in the format for running the \"data_preprocessing.py\" script\n",
    "# =============================================================="
   ]
  },
  {
   "cell_type": "code",
   "execution_count": null,
   "metadata": {},
   "outputs": [],
   "source": [
    "# Imports\n",
    "import pandas as pd\n",
    "import json\n",
    "pd.set_option('display.max_rows', 10)\n",
    "JSON_OBJ = {}"
   ]
  },
  {
   "cell_type": "markdown",
   "metadata": {},
   "source": [
    "## ------------------------  0. DATA FILE INFO  ------------------------"
   ]
  },
  {
   "cell_type": "markdown",
   "metadata": {},
   "source": [
    "> **[INPUT]** DATA FILE PATH AND DATABASE NAME"
   ]
  },
  {
   "cell_type": "code",
   "execution_count": null,
   "metadata": {},
   "outputs": [],
   "source": [
    "DATA_PATH = ''\n",
    "DB_NAME = ''"
   ]
  },
  {
   "cell_type": "markdown",
   "metadata": {},
   "source": [
    "## ------------------------  1. EMPTY COLUMNS  ------------------------"
   ]
  },
  {
   "cell_type": "markdown",
   "metadata": {},
   "source": [
    "**[VISUAL ANALYSIS]** _IDENTIFY_ EMPTY COLUMNS TO DROP\n",
    "<br>*adjust separator if necessary*"
   ]
  },
  {
   "cell_type": "code",
   "execution_count": null,
   "metadata": {},
   "outputs": [],
   "source": [
    "db_orig = pd.read_csv(DATA_PATH, header=0, sep=',')\n",
    "db_orig.head()"
   ]
  },
  {
   "cell_type": "markdown",
   "metadata": {},
   "source": [
    ">**[INPUT]:** EMPTY COLUMNS\n",
    "<br>List of the **names** from columns to drop\n",
    "<br>default: **_emptCols = []** "
   ]
  },
  {
   "cell_type": "code",
   "execution_count": null,
   "metadata": {},
   "outputs": [],
   "source": [
    "_emptCols = []\n",
    "#########################################\n",
    "JSON_OBJ['_emptCols'] = _emptCols\n",
    "print('_emptCols = {}'.format(_emptCols))"
   ]
  },
  {
   "cell_type": "markdown",
   "metadata": {},
   "source": [
    "## ------------------------  2. UNTREACEBLE MISSING VALUES  -----------------"
   ]
  },
  {
   "cell_type": "markdown",
   "metadata": {},
   "source": [
    "**[VISUAL ANALYSIS]** _IDENTIFY_ UNTRACEABLE MISSING VALUES\n"
   ]
  },
  {
   "cell_type": "code",
   "execution_count": null,
   "metadata": {
    "scrolled": true
   },
   "outputs": [],
   "source": [
    "print('================ Attribute-Values analysis')\n",
    "it=0\n",
    "for (columnName, columnData) in db_orig.iteritems():\n",
    "    print('\\n----')\n",
    "    print('Column{}:{}'.format(it,columnName))\n",
    "    print('data-type: {}'.format(columnData.dtype))\n",
    "    print('#unique: {}'.format(len(columnData.unique())))\n",
    "    print('Unique values: {}'.format(columnData.unique()))\n",
    "    it += 1"
   ]
  },
  {
   "cell_type": "markdown",
   "metadata": {},
   "source": [
    ">**[INPUT]** UNTREACEBLE MISSING VALUES ID\n",
    "<br>Dictionary {'attribute-name': ['missing-value']} for pandas-untreaceble missing values:\n",
    "<br>default: **_dictMV = {}**\n",
    "<br>! *attention*: dict{ str : list}"
   ]
  },
  {
   "cell_type": "code",
   "execution_count": null,
   "metadata": {},
   "outputs": [],
   "source": [
    "_dictMV = {}\n",
    "######################################\n",
    "JSON_OBJ['_dictMV'] = _dictMV\n",
    "print('_dictMV = {}'.format(_dictMV))"
   ]
  },
  {
   "cell_type": "markdown",
   "metadata": {},
   "source": [
    "## ------------------------  3. FEATURES SELECTION  ------------------------"
   ]
  },
  {
   "cell_type": "markdown",
   "metadata": {},
   "source": [
    "**[VISUAL ANALYSIS]** _IDENTIFY_ THE COLUMNS NOT TO USE\n",
    "<br>*look at the db info and at info on missing values if it helps*"
   ]
  },
  {
   "cell_type": "code",
   "execution_count": null,
   "metadata": {
    "scrolled": true
   },
   "outputs": [],
   "source": [
    "if _dictMV:\n",
    "    mv_values = []\n",
    "    for attr, values in _dictMV.items():\n",
    "        for value in values:\n",
    "            if not value in mv_values:\n",
    "                mv_values.append(value)\n",
    "# reaload db with adjusted missing values and drop empty cols\n",
    "db_new = pd.read_csv(DATA_PATH, header=0, sep=';', na_values=mv_values)\n",
    "if _emptCols:\n",
    "    db_new.drop(columns=_emptCols,inplace=True)\n",
    "\n",
    "print('===== DB INFO:') \n",
    "display(db_new.info())\n",
    "\n",
    "print('\\n===== MISSING VALUES:')\n",
    "mv = db_new.isnull().sum().sum()\n",
    "if mv == 0:\n",
    "    print('! No missing values')\n",
    "else:\n",
    "    mv_cols = db_new.columns[db_new.isnull().any()].tolist()\n",
    "    print('# missing-values: {}'.format(mv))\n",
    "    print('\\n#mv by attribute:')\n",
    "    for col in mv_cols:\n",
    "        print('{} = {}'.format(col,db_new[col].isnull().sum()))"
   ]
  },
  {
   "cell_type": "markdown",
   "metadata": {},
   "source": [
    ">**[INPUT]** COLUMNS' *NOT* TO USE\n",
    "<br>List of the **names** of the columns to be dropped\n",
    "<br>default: **_colsNot2use = [ ]**"
   ]
  },
  {
   "cell_type": "code",
   "execution_count": null,
   "metadata": {},
   "outputs": [],
   "source": [
    "_colsNot2use = [ ]\n",
    "###############################################\n",
    "JSON_OBJ['_colsNot2use'] = _colsNot2use\n",
    "print('_colsNot2use = {}'.format(_colsNot2use))"
   ]
  },
  {
   "cell_type": "markdown",
   "metadata": {},
   "source": [
    "## ------------------------  4. SURVIVAL FEATURES ------------------------"
   ]
  },
  {
   "cell_type": "markdown",
   "metadata": {},
   "source": [
    "**[VISUAL ANALYSIS]** _IDENTIFY_ THE SURVIVAL VARIABLES NAMES"
   ]
  },
  {
   "cell_type": "code",
   "execution_count": null,
   "metadata": {
    "scrolled": true
   },
   "outputs": [],
   "source": [
    "print('Features:')\n",
    "for col in db_new.columns:\n",
    "    print(col)"
   ]
  },
  {
   "cell_type": "markdown",
   "metadata": {},
   "source": [
    ">**[INPUT]** SURVIVAL ATTRIBUTES NAMES\n",
    "<br> Write the attributes names: survival time (survTime_name) and event/cens/status (survEvent_name)\n",
    "<br> **_mandatory_**"
   ]
  },
  {
   "cell_type": "code",
   "execution_count": null,
   "metadata": {},
   "outputs": [],
   "source": [
    "survivalTime_name = ''\n",
    "survivalEvent_name = ''\n",
    "########################################################\n",
    "_survivalAttr = {'survivalTime_name':survivalTime_name,\n",
    "                'survivalEvent_name':survivalEvent_name}\n",
    "JSON_OBJ['_survivalAttr'] = _survivalAttr\n",
    "print('_survivalAttr = {}'.format(_survivalAttr))"
   ]
  },
  {
   "cell_type": "markdown",
   "metadata": {},
   "source": [
    "## ------------------------  5. EVENT FEATURE ADJUSTMENT  ------------------------"
   ]
  },
  {
   "cell_type": "markdown",
   "metadata": {},
   "source": [
    "**[VISUAL ANALYSIS]** _IDENTIFY_ IF EVENT COLUMN NEEDS ADJUSTMENT\n",
    "<br>*the feature needs adjustment if it is not FALSE/TRUE nor 0/1*"
   ]
  },
  {
   "cell_type": "code",
   "execution_count": null,
   "metadata": {
    "scrolled": true
   },
   "outputs": [],
   "source": [
    "print('===== EVENT VARIABLE < {} >:'.format(survivalEvent_name))\n",
    "print('Type: {}'.format(db_new[survivalEvent_name].dtype))\n",
    "print('Unique values: {}'.format(db_new[survivalEvent_name].unique()))"
   ]
  },
  {
   "cell_type": "markdown",
   "metadata": {},
   "source": [
    ">**[INPUT]** SURVIVAL STATUS REPRESENTATION\n",
    "<br>Identify the censoring values (censValue) and the event-occurrence values (eventValue)\n",
    "<br>default: **censValue/eventValue = [ ]**"
   ]
  },
  {
   "cell_type": "code",
   "execution_count": null,
   "metadata": {},
   "outputs": [],
   "source": [
    "censValue = []\n",
    "eventValue = []\n",
    "##############################################\n",
    "_statusRepr = {'censValue':censValue,\n",
    "              'eventValue':eventValue}\n",
    "JSON_OBJ['_statusRepr'] = _statusRepr\n",
    "print('_statusRepr = {}'.format(_statusRepr))"
   ]
  },
  {
   "cell_type": "markdown",
   "metadata": {},
   "source": [
    "## ------------------------  6. CATEGORY IMPUTATION  ------------------------"
   ]
  },
  {
   "cell_type": "markdown",
   "metadata": {},
   "source": [
    "**[VISUAL ANALYSIS]** _IDENTIFY_ IF THERE ARE CATEGORIES TO INPUT ON MISSING-VALUES\n",
    "<br>*use information on missing values if necessary*"
   ]
  },
  {
   "cell_type": "code",
   "execution_count": null,
   "metadata": {},
   "outputs": [],
   "source": [
    "print('===== OVERALL MINSSING CASES INFO: ')\n",
    "mv = db_new.isnull().sum().sum()\n",
    "if mv == 0:\n",
    "    print('\\n! No missing cases')\n",
    "else:\n",
    "    print('# missing-values = {}'.format(mv))\n",
    "    print('# rows_mv/rows_total: {}/{}'.format(db_new.isnull().any(axis='columns').sum(), db_new.shape[0]))\n",
    "    print('\\n# mv by attribute:')\n",
    "    for col in db_new.columns[db_new.isnull().any()].tolist():\n",
    "        print('- Attribute {}: #{}'.format(col,db_new[col].isnull().sum()))"
   ]
  },
  {
   "cell_type": "markdown",
   "metadata": {},
   "source": [
    ">**[INPUT]** NaN VALUES FOR INPUTTING\n",
    "<br>Disctionary {columnName : value-to-input} to input on missing values\n",
    "<br>default: **nan2replace = {}**"
   ]
  },
  {
   "cell_type": "code",
   "execution_count": null,
   "metadata": {},
   "outputs": [],
   "source": [
    "_nan2replace = {}\n",
    "###############################################\n",
    "JSON_OBJ['_nan2replace'] = _nan2replace\n",
    "print('_nan2replace = {}'.format(_nan2replace))"
   ]
  },
  {
   "cell_type": "markdown",
   "metadata": {},
   "source": [
    "## ------------------------  7. DTYPES DEFINITION  ------------------------"
   ]
  },
  {
   "cell_type": "markdown",
   "metadata": {},
   "source": [
    "**[VISUAL ANALYSIS]** _IDENTIFY_ THE COLUMNS' DTYPES TO CHANGE\n",
    "<br>*use db.info if necessary*"
   ]
  },
  {
   "cell_type": "code",
   "execution_count": null,
   "metadata": {},
   "outputs": [],
   "source": [
    "display(db_new.info())"
   ]
  },
  {
   "cell_type": "markdown",
   "metadata": {},
   "source": [
    ">**[INPUT]** NaN VALUES FOR INPUTTING\n",
    "<br>Write the columns' **names** for each type: category (colsCtg) or boolean (colsBool):\n",
    "<br>default: **colsCtg/colsBool: []**\n",
    "<br>! *attention*: features not encompassed will be considered numerical for discretization"
   ]
  },
  {
   "cell_type": "code",
   "execution_count": null,
   "metadata": {},
   "outputs": [],
   "source": [
    "colsCtg = []\n",
    "colsBool = []   # obs.: [true/false] or [0/1] values\n",
    "###############################################################\n",
    "booleans = dict.fromkeys(colsBool,'bool')\n",
    "categorical = dict.fromkeys(colsCtg,'category')\n",
    "_colsType = {**booleans, **categorical}\n",
    "_cols2disc = list(set(colsCtg+colsBool) ^ set(db_new.columns))\n",
    "_cols2disc.remove(_survivalAttr['survivalTime_name'])          # remove survival-time feature from discretization names\n",
    "if _survivalAttr['survivalEvent_name'] in _cols2disc:          # remove survival-event feature from discretization names\n",
    "    _cols2disc.remove(_survivalAttr['survivalEvent_name'])\n",
    "JSON_OBJ['_colsType'] = _colsType\n",
    "JSON_OBJ['_cols2disc'] = _cols2disc\n",
    "print('_colsType = {}'.format(_colsType))\n",
    "print('_cols2disc = {}'.format(_cols2disc))"
   ]
  },
  {
   "cell_type": "markdown",
   "metadata": {},
   "source": [
    "# !! SAVING !!"
   ]
  },
  {
   "cell_type": "code",
   "execution_count": null,
   "metadata": {},
   "outputs": [],
   "source": [
    "with open('{}_prep.json'.format(DB_NAME)) as f:\n",
    "    json.dump(JSON_OBJ,f)"
   ]
  }
 ],
 "metadata": {
  "kernelspec": {
   "display_name": "Python 3",
   "language": "python",
   "name": "python3"
  },
  "language_info": {
   "codemirror_mode": {
    "name": "ipython",
    "version": 3
   },
   "file_extension": ".py",
   "mimetype": "text/x-python",
   "name": "python",
   "nbconvert_exporter": "python",
   "pygments_lexer": "ipython3",
   "version": "3.6.5"
  }
 },
 "nbformat": 4,
 "nbformat_minor": 2
}
